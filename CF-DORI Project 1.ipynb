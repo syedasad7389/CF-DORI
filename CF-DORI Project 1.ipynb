{
 "cells": [
  {
   "cell_type": "markdown",
   "id": "7c8b951c",
   "metadata": {},
   "source": [
    "# CF-DORI - Project 1"
   ]
  },
  {
   "cell_type": "markdown",
   "id": "a466f651",
   "metadata": {},
   "source": [
    "## Student portfolio\n",
    "\n",
    "\n"
   ]
  },
  {
   "cell_type": "code",
   "execution_count": 1,
   "id": "a87e2bbc",
   "metadata": {},
   "outputs": [
    {
     "name": "stdout",
     "output_type": "stream",
     "text": [
      "Enter student details\n"
     ]
    }
   ],
   "source": [
    "print(\"Enter student details\")"
   ]
  },
  {
   "cell_type": "code",
   "execution_count": 2,
   "id": "90d2468c",
   "metadata": {},
   "outputs": [
    {
     "name": "stdout",
     "output_type": "stream",
     "text": [
      "Student name : Syed Asad \n"
     ]
    },
    {
     "data": {
      "text/plain": [
       "'Syed Asad '"
      ]
     },
     "execution_count": 2,
     "metadata": {},
     "output_type": "execute_result"
    }
   ],
   "source": [
    "input(\"Student name : \")"
   ]
  },
  {
   "cell_type": "code",
   "execution_count": 3,
   "id": "2dd48cea",
   "metadata": {},
   "outputs": [
    {
     "name": "stdout",
     "output_type": "stream",
     "text": [
      "Std & Division : 12th C\n"
     ]
    },
    {
     "data": {
      "text/plain": [
       "'12th C'"
      ]
     },
     "execution_count": 3,
     "metadata": {},
     "output_type": "execute_result"
    }
   ],
   "source": [
    "input(\"Std & Division : \")"
   ]
  },
  {
   "cell_type": "code",
   "execution_count": 4,
   "id": "5305eb27",
   "metadata": {},
   "outputs": [
    {
     "name": "stdout",
     "output_type": "stream",
     "text": [
      "Roll no: 502260\n"
     ]
    },
    {
     "data": {
      "text/plain": [
       "'502260'"
      ]
     },
     "execution_count": 4,
     "metadata": {},
     "output_type": "execute_result"
    }
   ],
   "source": [
    "input(\"Roll no: \")"
   ]
  },
  {
   "cell_type": "code",
   "execution_count": 5,
   "id": "58d11bbc",
   "metadata": {},
   "outputs": [
    {
     "name": "stdout",
     "output_type": "stream",
     "text": [
      "Marks in English : 80/100\n"
     ]
    },
    {
     "data": {
      "text/plain": [
       "'80/100'"
      ]
     },
     "execution_count": 5,
     "metadata": {},
     "output_type": "execute_result"
    }
   ],
   "source": [
    "input(\"Marks in English : \")"
   ]
  },
  {
   "cell_type": "code",
   "execution_count": 6,
   "id": "113b0554",
   "metadata": {},
   "outputs": [
    {
     "name": "stdout",
     "output_type": "stream",
     "text": [
      "Marks in Hindi : 90/100\n"
     ]
    },
    {
     "data": {
      "text/plain": [
       "'90/100'"
      ]
     },
     "execution_count": 6,
     "metadata": {},
     "output_type": "execute_result"
    }
   ],
   "source": [
    "input(\"Marks in Hindi : \" )"
   ]
  },
  {
   "cell_type": "code",
   "execution_count": 8,
   "id": "c3f5be82",
   "metadata": {},
   "outputs": [
    {
     "name": "stdout",
     "output_type": "stream",
     "text": [
      "Marks in IP : 99/100\n"
     ]
    },
    {
     "data": {
      "text/plain": [
       "'99/100'"
      ]
     },
     "execution_count": 8,
     "metadata": {},
     "output_type": "execute_result"
    }
   ],
   "source": [
    "input(\"Marks in IP : \")"
   ]
  },
  {
   "cell_type": "code",
   "execution_count": 9,
   "id": "7c9f9fa8",
   "metadata": {},
   "outputs": [],
   "source": [
    "#Thank you"
   ]
  },
  {
   "cell_type": "code",
   "execution_count": null,
   "id": "634f7c1c",
   "metadata": {},
   "outputs": [],
   "source": []
  }
 ],
 "metadata": {
  "kernelspec": {
   "display_name": "Python 3",
   "language": "python",
   "name": "python3"
  },
  "language_info": {
   "codemirror_mode": {
    "name": "ipython",
    "version": 3
   },
   "file_extension": ".py",
   "mimetype": "text/x-python",
   "name": "python",
   "nbconvert_exporter": "python",
   "pygments_lexer": "ipython3",
   "version": "3.8.8"
  }
 },
 "nbformat": 4,
 "nbformat_minor": 5
}
