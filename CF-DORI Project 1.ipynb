{
 "cells": [
  {
   "cell_type": "markdown",
   "id": "7c8b951c",
   "metadata": {},
   "source": [
    "# CF-DORI - Project 1"
   ]
  },
  {
   "cell_type": "markdown",
   "id": "a466f651",
   "metadata": {},
   "source": [
    "## Student portfolio\n",
    "\n",
    "\n"
   ]
  },
  {
   "cell_type": "code",
   "execution_count": null,
   "id": "a87e2bbc",
   "metadata": {},
   "outputs": [],
   "source": [
    "print(\"Enter student details\")"
   ]
  },
  {
   "cell_type": "code",
   "execution_count": 1,
   "id": "90d2468c",
   "metadata": {},
   "outputs": [
    {
     "name": "stdout",
     "output_type": "stream",
     "text": [
      "Student name : Syed Asad Naeem\n"
     ]
    }
   ],
   "source": [
    "name = input(\"Student name : \")"
   ]
  },
  {
   "cell_type": "code",
   "execution_count": 2,
   "id": "2dd48cea",
   "metadata": {},
   "outputs": [
    {
     "name": "stdout",
     "output_type": "stream",
     "text": [
      "Std & Division : 11 C\n"
     ]
    }
   ],
   "source": [
    "std = input(\"Std & Division : \")"
   ]
  },
  {
   "cell_type": "code",
   "execution_count": 3,
   "id": "5305eb27",
   "metadata": {},
   "outputs": [
    {
     "name": "stdout",
     "output_type": "stream",
     "text": [
      "Roll no: 502260\n"
     ]
    }
   ],
   "source": [
    "roll = input(\"Roll no: \")"
   ]
  },
  {
   "cell_type": "code",
   "execution_count": 4,
   "id": "58d11bbc",
   "metadata": {},
   "outputs": [
    {
     "name": "stdout",
     "output_type": "stream",
     "text": [
      "Marks in English : 89\n"
     ]
    }
   ],
   "source": [
    "sub1 = str(input(\"Marks in English : \"))"
   ]
  },
  {
   "cell_type": "code",
   "execution_count": 5,
   "id": "113b0554",
   "metadata": {},
   "outputs": [
    {
     "name": "stdout",
     "output_type": "stream",
     "text": [
      "Marks in Hindi : 94\n"
     ]
    }
   ],
   "source": [
    "sub2 = str(input(\"Marks in Hindi : \" ))"
   ]
  },
  {
   "cell_type": "code",
   "execution_count": 6,
   "id": "c3f5be82",
   "metadata": {},
   "outputs": [
    {
     "name": "stdout",
     "output_type": "stream",
     "text": [
      "Marks in IP : 99\n"
     ]
    }
   ],
   "source": [
    "sub3 = str(input(\"Marks in IP : \"))"
   ]
  },
  {
   "cell_type": "code",
   "execution_count": null,
   "id": "7c9f9fa8",
   "metadata": {},
   "outputs": [],
   "source": []
  },
  {
   "cell_type": "code",
   "execution_count": 11,
   "id": "634f7c1c",
   "metadata": {},
   "outputs": [
    {
     "name": "stdout",
     "output_type": "stream",
     "text": [
      "Student details\n",
      "********************\n",
      "\n",
      "The name of student is Syed Asad Naeem\n",
      "SYED ASAD NAEEM is in 11 C\n",
      "********************\n",
      "\n",
      "Roll number of SYED ASAD NAEEM is 502260\n",
      "SYED ASAD NAEEM Marks are listed below\n",
      "********************\n",
      "\n",
      "ENGLISH :89\n",
      "HINDI :94\n",
      "IP :99\n",
      "********************\n",
      "\n",
      "congratulations you are passed with distinction\n",
      "********************\n",
      "\n"
     ]
    }
   ],
   "source": [
    "print(\"Student details\")\n",
    "print(\"*\"*20+\"\\n\")\n",
    "print(\"The name of student is\"+\" \"+name)\n",
    "print(name.upper() + \" is in \"+ str(std))\n",
    "\n",
    "print(\"*\"*20+\"\\n\")\n",
    "print(\"Roll number of \"+name.upper() +\" is \"+str(roll))\n",
    "print(name.upper() +\" Marks are listed below\")\n",
    "\n",
    "print(\"*\"*20+\"\\n\")\n",
    "print(\"ENGLISH :\" +sub1)\n",
    "print(\"HINDI :\" +sub2)\n",
    "print(\"IP :\" +sub3)\n",
    "\n",
    "print(\"*\"*20+\"\\n\")\n",
    "print(\"Congratulations you are passed with distinction\")\n",
    "print(\"*\"*20+\"\\n\")"
   ]
  },
  {
   "cell_type": "code",
   "execution_count": null,
   "id": "9f0bceed",
   "metadata": {},
   "outputs": [],
   "source": []
  }
 ],
 "metadata": {
  "kernelspec": {
   "display_name": "Python 3",
   "language": "python",
   "name": "python3"
  },
  "language_info": {
   "codemirror_mode": {
    "name": "ipython",
    "version": 3
   },
   "file_extension": ".py",
   "mimetype": "text/x-python",
   "name": "python",
   "nbconvert_exporter": "python",
   "pygments_lexer": "ipython3",
   "version": "3.8.8"
  }
 },
 "nbformat": 4,
 "nbformat_minor": 5
}
